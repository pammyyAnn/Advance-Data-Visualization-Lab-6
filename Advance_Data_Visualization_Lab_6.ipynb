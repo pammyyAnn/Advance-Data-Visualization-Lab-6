{
  "nbformat": 4,
  "nbformat_minor": 0,
  "metadata": {
    "colab": {
      "provenance": [],
      "authorship_tag": "ABX9TyPpLUIytUvJ4GXiVhF6mLbD",
      "include_colab_link": true
    },
    "kernelspec": {
      "name": "python3",
      "display_name": "Python 3"
    },
    "language_info": {
      "name": "python"
    }
  },
  "cells": [
    {
      "cell_type": "markdown",
      "metadata": {
        "id": "view-in-github",
        "colab_type": "text"
      },
      "source": [
        "<a href=\"https://colab.research.google.com/github/pammyyAnn/Advance-Data-Visualization-Lab-6/blob/main/Advance_Data_Visualization_Lab_6.ipynb\" target=\"_parent\"><img src=\"https://colab.research.google.com/assets/colab-badge.svg\" alt=\"Open In Colab\"/></a>"
      ]
    },
    {
      "cell_type": "code",
      "source": [
        "print(\"Hello! Please enter your name\")\n",
        "name1 = input()\n",
        "print(\"name= \" + name1 )"
      ],
      "metadata": {
        "colab": {
          "base_uri": "https://localhost:8080/"
        },
        "id": "FwUy48bwM1Tl",
        "outputId": "85389020-0430-4e9b-8b96-f6feee5fc0cf"
      },
      "execution_count": 25,
      "outputs": [
        {
          "output_type": "stream",
          "name": "stdout",
          "text": [
            "Hello! Please enter your name\n",
            "Pamela\n",
            "name= Pamela\n"
          ]
        }
      ]
    },
    {
      "cell_type": "code",
      "source": [
        "print(\"Enter your age:\")\n",
        "age = input() \n",
        "print (\"age = \" + age)"
      ],
      "metadata": {
        "colab": {
          "base_uri": "https://localhost:8080/"
        },
        "id": "UDUTMYg2KlXC",
        "outputId": "4b64a75a-82f2-468f-a08b-aa2bc50d5ddb"
      },
      "execution_count": 27,
      "outputs": [
        {
          "output_type": "stream",
          "name": "stdout",
          "text": [
            "Enter your age:\n",
            "21\n",
            "age = 21\n"
          ]
        }
      ]
    },
    {
      "cell_type": "code",
      "source": [
        "print(\"Enter your weight (in kg):\")\n",
        "kg = input()\n",
        "print (\"weight = \" + kg)"
      ],
      "metadata": {
        "colab": {
          "base_uri": "https://localhost:8080/"
        },
        "id": "avKrRwTDN1ST",
        "outputId": "296adbfe-dd73-49a9-ad1e-c09b5be3f433"
      },
      "execution_count": 55,
      "outputs": [
        {
          "output_type": "stream",
          "name": "stdout",
          "text": [
            "Enter your weight (in kg):\n",
            "39\n",
            "weight = 39\n"
          ]
        }
      ]
    },
    {
      "cell_type": "code",
      "source": [
        "print(\"Enter your height (in cm):\")\n",
        "height = input ()\n",
        "print (\"height = \" + height)"
      ],
      "metadata": {
        "colab": {
          "base_uri": "https://localhost:8080/"
        },
        "id": "ZE-oRpnBOIgK",
        "outputId": "361a7119-5bed-4f5f-bf6d-b3ee398ac984"
      },
      "execution_count": 54,
      "outputs": [
        {
          "output_type": "stream",
          "name": "stdout",
          "text": [
            "Enter your height (in cm):\n",
            "147\n",
            "height = 147\n"
          ]
        }
      ]
    },
    {
      "cell_type": "code",
      "source": [
        "print(\"There are your inputs:\")\n",
        "print(name1)\n",
        "print(str(age) + \" years old\")\n",
        "print(str(height) + \"cm\")\n",
        "print(str(kg) + \"kg\")\n"
      ],
      "metadata": {
        "colab": {
          "base_uri": "https://localhost:8080/"
        },
        "id": "d5ognyF8OXd2",
        "outputId": "31afc66f-ecd6-419d-bcaa-47e26886c421"
      },
      "execution_count": 56,
      "outputs": [
        {
          "output_type": "stream",
          "name": "stdout",
          "text": [
            "There are your inputs:\n",
            "Pamela\n",
            "21 years old\n",
            "147cm\n",
            "39kg\n"
          ]
        }
      ]
    },
    {
      "cell_type": "code",
      "source": [
        "height = float(input(\"Enter your height in cm: \"))\n",
        "weight = float(input(\"Enter your weight in kg: \"))\n",
        "bmiCompute = weight / ((height/100) * (height/100))\n",
        "if(bmiCompute < 18.5):\n",
        "  print(\"BMI Diagnosis: Underweight\")\n",
        "elif(bmiCompute < 24.9):\n",
        "  print(\"BMI Diagnosis: Normal/Healthy\")\n",
        "elif(bmiCompute < 29.9):\n",
        "  print(\"BMI Diagnosis: Overweight\")\n",
        "elif(bmiCompute > 30):\n",
        "  print(\"BMI Diagnosis: Obese\")"
      ],
      "metadata": {
        "colab": {
          "base_uri": "https://localhost:8080/"
        },
        "id": "8WHCEUbDRqKb",
        "outputId": "6a8f0f29-b5e5-4b10-bd16-91be7d954620"
      },
      "execution_count": 57,
      "outputs": [
        {
          "output_type": "stream",
          "name": "stdout",
          "text": [
            "Enter your height in cm: 147\n",
            "Enter your weight in kg: 39\n",
            "BMI Diagnosis: Underweight\n"
          ]
        }
      ]
    },
    {
      "cell_type": "code",
      "source": [],
      "metadata": {
        "id": "HPdKoGOjTWKJ"
      },
      "execution_count": 53,
      "outputs": []
    }
  ]
}